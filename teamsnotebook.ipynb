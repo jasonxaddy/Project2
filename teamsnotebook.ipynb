{
 "cells": [
  {
   "cell_type": "code",
   "execution_count": null,
   "metadata": {},
   "outputs": [],
   "source": [
    "import pandas as pd\n"
   ]
  },
  {
   "cell_type": "code",
   "execution_count": null,
   "metadata": {},
   "outputs": [],
   "source": [
    "tables = pd.read_html('https://en.wikipedia.org/wiki/2019_NCAA_Division_I_Men%27s_Basketball_Tournament')\n",
    "tables"
   ]
  },
  {
   "cell_type": "code",
   "execution_count": null,
   "metadata": {
    "scrolled": true
   },
   "outputs": [],
   "source": [
    "tables[3]"
   ]
  },
  {
   "cell_type": "code",
   "execution_count": null,
   "metadata": {},
   "outputs": [],
   "source": [
    "east = tables[4]\n",
    "east"
   ]
  },
  {
   "cell_type": "code",
   "execution_count": null,
   "metadata": {},
   "outputs": [],
   "source": [
    "west = tables[5]\n",
    "west"
   ]
  },
  {
   "cell_type": "code",
   "execution_count": null,
   "metadata": {},
   "outputs": [],
   "source": [
    "south = tables[6]\n",
    "south"
   ]
  },
  {
   "cell_type": "code",
   "execution_count": null,
   "metadata": {},
   "outputs": [],
   "source": [
    "midwest = tables[7]\n",
    "midwest"
   ]
  },
  {
   "cell_type": "code",
   "execution_count": null,
   "metadata": {
    "scrolled": true
   },
   "outputs": [],
   "source": [
    "teams_total = pd.concat([east, west, south, midwest], ignore_index=True)\n",
    "teams_total.head()"
   ]
  },
  {
   "cell_type": "code",
   "execution_count": null,
   "metadata": {},
   "outputs": [],
   "source": [
    "teams_total.to_csv('Desktop/DataScience/project2/Project2/Resources/teams.csv')"
   ]
  },
  {
   "cell_type": "code",
   "execution_count": null,
   "metadata": {},
   "outputs": [],
   "source": [
    "tourney_teams = pd.read_csv('Resources/tourney-teams.csv')"
   ]
  },
  {
   "cell_type": "code",
   "execution_count": null,
   "metadata": {},
   "outputs": [],
   "source": [
    "tourney_teams.head()"
   ]
  },
  {
   "cell_type": "code",
   "execution_count": null,
   "metadata": {
    "scrolled": false
   },
   "outputs": [],
   "source": [
    "school_data = pd.read_csv('Resources/school_data.csv')\n",
    "school_data.head()"
   ]
  },
  {
   "cell_type": "code",
   "execution_count": null,
   "metadata": {
    "scrolled": true
   },
   "outputs": [],
   "source": [
    "final_table = pd.merge(tourney_teams, school_data, on='UNITID', how='left')\n",
    "\n",
    "final_table.head()\n",
    "final_table = final_table[['UNITID','CITY','INSTNM_x','STABBR','LATITUDE','LONGITUDE','ADM_RATE','SAT_AVG',\n",
    "                           'TUITIONFEE_IN','TUITIONFEE_OUT']]\n",
    "final_table.head()"
   ]
  },
  {
   "cell_type": "code",
   "execution_count": null,
   "metadata": {},
   "outputs": [],
   "source": [
    "bball_data = pd.read_csv('Resources/teams.csv')"
   ]
  },
  {
   "cell_type": "code",
   "execution_count": null,
   "metadata": {
    "scrolled": true
   },
   "outputs": [],
   "source": [
    "bball_data"
   ]
  },
  {
   "cell_type": "code",
   "execution_count": null,
   "metadata": {},
   "outputs": [],
   "source": [
    "bball_data.loc[bball_data.index[0], 'UNITID'] = 198419\n",
    "bball_data.loc[bball_data.index[1], 'UNITID'] = 171100\n",
    "bball_data.loc[bball_data.index[2], 'UNITID'] = 159391\n",
    "bball_data.loc[bball_data.index[3], 'UNITID'] = 234155\n",
    "bball_data.loc[bball_data.index[4], 'UNITID'] = 234155\n",
    "bball_data.loc[bball_data.index[5], 'UNITID'] = 163286\n",
    "bball_data.loc[bball_data.index[6], 'UNITID'] = 157289\n",
    "bball_data.loc[bball_data.index[7], 'UNITID'] = 234030\n",
    "bball_data.loc[bball_data.index[8], 'UNITID'] = 132903\n",
    "bball_data.loc[bball_data.index[9], 'UNITID'] = 174066\n",
    "bball_data.loc[bball_data.index[11], 'UNITID'] = 219709\n",
    "bball_data.loc[bball_data.index[12], 'UNITID'] = 232557\n",
    "bball_data.loc[bball_data.index[13], 'UNITID'] = 179159\n",
    "bball_data.loc[bball_data.index[14], 'UNITID'] = 130794\n",
    "bball_data.loc[bball_data.index[15], 'UNITID'] = 143358\n",
    "bball_data.loc[bball_data.index[17], 'UNITID'] = 200332\n",
    "bball_data.loc[bball_data.index[18], 'UNITID'] = 235316\n",
    "bball_data.loc[bball_data.index[19], 'UNITID'] = 170976\n",
    "bball_data.loc[bball_data.index[20], 'UNITID'] = 229115\n",
    "bball_data.loc[bball_data.index[21], 'UNITID'] = 134097\n",
    "bball_data.loc[bball_data.index[22], 'UNITID'] = 239105\n",
    "bball_data.loc[bball_data.index[23], 'UNITID'] = 196088\n",
    "bball_data.loc[bball_data.index[24], 'UNITID'] = 182290\n",
    "bball_data.loc[bball_data.index[25], 'UNITID'] = 196413\n",
    "bball_data.loc[bball_data.index[26], 'UNITID'] = 223232\n",
    "bball_data.loc[bball_data.index[27], 'UNITID'] = 134130\n",
    "bball_data.loc[bball_data.index[28], 'UNITID'] = 104151\n",
    "bball_data.loc[bball_data.index[30], 'UNITID'] = 157401\n",
    "bball_data.loc[bball_data.index[31], 'UNITID'] = 231174\n",
    "bball_data.loc[bball_data.index[32], 'UNITID'] = 157447\n",
    "bball_data.loc[bball_data.index[33], 'UNITID'] = 180489\n",
    "bball_data.loc[bball_data.index[34], 'UNITID'] = 184694\n",
    "bball_data.loc[bball_data.index[36], 'UNITID'] = 234076\n",
    "bball_data.loc[bball_data.index[37], 'UNITID'] = 221740\n",
    "bball_data.loc[bball_data.index[38], 'UNITID'] = 243780\n",
    "bball_data.loc[bball_data.index[39], 'UNITID'] = 155399\n",
    "bball_data.loc[bball_data.index[40], 'UNITID'] = 240444\n",
    "bball_data.loc[bball_data.index[41], 'UNITID'] = 216597\n",
    "bball_data.loc[bball_data.index[42], 'UNITID'] = 201885\n",
    "bball_data.loc[bball_data.index[43], 'UNITID'] = 176017\n",
    "bball_data.loc[bball_data.index[44], 'UNITID'] = 207500\n",
    "bball_data.loc[bball_data.index[45], 'UNITID'] = 153658\n",
    "bball_data.loc[bball_data.index[46], 'UNITID'] = 123554\n",
    "bball_data.loc[bball_data.index[47], 'UNITID'] = 209551\n",
    "bball_data.loc[bball_data.index[48], 'UNITID'] = 110653\n",
    "bball_data.loc[bball_data.index[49], 'UNITID'] = 232982\n",
    "bball_data.loc[bball_data.index[50], 'UNITID'] = 190099\n",
    "bball_data.loc[bball_data.index[51], 'UNITID'] = 198561\n",
    "bball_data.loc[bball_data.index[52], 'UNITID'] = 199120\n",
    "bball_data.loc[bball_data.index[53], 'UNITID'] = 157085\n",
    "bball_data.loc[bball_data.index[54], 'UNITID'] = 225511\n",
    "bball_data.loc[bball_data.index[55], 'UNITID'] = 155317\n",
    "bball_data.loc[bball_data.index[56], 'UNITID'] = 100858\n",
    "bball_data.loc[bball_data.index[57], 'UNITID'] = 153603\n",
    "bball_data.loc[bball_data.index[58], 'UNITID'] = 218973\n",
    "bball_data.loc[bball_data.index[59], 'UNITID'] = 230728\n",
    "bball_data.loc[bball_data.index[60], 'UNITID'] = 236948\n",
    "bball_data.loc[bball_data.index[61], 'UNITID'] = 186584\n",
    "bball_data.loc[bball_data.index[62], 'UNITID'] = 204796\n",
    "bball_data.loc[bball_data.index[63], 'UNITID'] = 188030\n",
    "bball_data.loc[bball_data.index[64], 'UNITID'] = 167358\n",
    "bball_data.loc[bball_data.index[65], 'UNITID'] = 139940\n",
    "bball_data.loc[bball_data.index[66], 'UNITID'] = 222178\n",
    "bball_data.loc[bball_data.index[67], 'UNITID'] = 191931"
   ]
  },
  {
   "cell_type": "code",
   "execution_count": null,
   "metadata": {
    "scrolled": true
   },
   "outputs": [],
   "source": [
    "bball_data\n",
    "bball_data['UNITID'] = pd.to_numeric(bball_data['UNITID'])\n",
    "bball_data"
   ]
  },
  {
   "cell_type": "code",
   "execution_count": null,
   "metadata": {},
   "outputs": [],
   "source": [
    "bball_school_data = pd.merge(final_table, bball_data, on='UNITID', how='left')\n",
    "\n",
    "bball_school_data."
   ]
  },
  {
   "cell_type": "code",
   "execution_count": null,
   "metadata": {},
   "outputs": [],
   "source": [
    "bball_school_data = bball_school_data.drop(columns=['Unnamed: 0'])\n",
    "bball_school_data"
   ]
  },
  {
   "cell_type": "code",
   "execution_count": null,
   "metadata": {},
   "outputs": [],
   "source": [
    "bball_school_data['ADM_RATE'] *= 100\n",
    "bball_school_data.head()"
   ]
  },
  {
   "cell_type": "code",
   "execution_count": null,
   "metadata": {},
   "outputs": [],
   "source": [
    "bball_school_data.to_csv('Resources/bball_school_data.csv')"
   ]
  },
  {
   "cell_type": "code",
   "execution_count": null,
   "metadata": {},
   "outputs": [],
   "source": []
  }
 ],
 "metadata": {
  "kernelspec": {
   "display_name": "Python 3",
   "language": "python",
   "name": "python3"
  },
  "language_info": {
   "codemirror_mode": {
    "name": "ipython",
    "version": 3
   },
   "file_extension": ".py",
   "mimetype": "text/x-python",
   "name": "python",
   "nbconvert_exporter": "python",
   "pygments_lexer": "ipython3",
   "version": "3.7.2"
  }
 },
 "nbformat": 4,
 "nbformat_minor": 2
}
